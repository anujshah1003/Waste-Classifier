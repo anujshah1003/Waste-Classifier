{
 "cells": [
  {
   "cell_type": "code",
   "execution_count": 1,
   "metadata": {},
   "outputs": [],
   "source": [
    "%reload_ext autoreload\n",
    "%autoreload 2\n",
    "%matplotlib inline\n",
    "import cv2"
   ]
  },
  {
   "cell_type": "code",
   "execution_count": 14,
   "metadata": {},
   "outputs": [],
   "source": [
    "import os\n",
    "import pandas as pd\n",
    "import random"
   ]
  },
  {
   "cell_type": "code",
   "execution_count": 15,
   "metadata": {},
   "outputs": [
    {
     "name": "stdout",
     "output_type": "stream",
     "text": [
      "['.DS_Store', 'cardboard', 'glass', 'metal', 'models', 'paper', 'plastic', 'trash']\n"
     ]
    },
    {
     "data": {
      "text/plain": [
       "8"
      ]
     },
     "execution_count": 15,
     "metadata": {},
     "output_type": "execute_result"
    }
   ],
   "source": [
    "#root_dir = '/home/uid38717/Documents/Waste-Classifier'\n",
    "root_dir = r'D:\\2019\\Waste-Classifier'\n",
    "data_dir = 'dataset-resized'\n",
    "data_path = os.path.join(root_dir,data_dir)\n",
    "data_categories = os.listdir(data_path)\n",
    "print(data_categories)\n",
    "#num_waste_cat = len()\n",
    "len(data_categories)"
   ]
  },
  {
   "cell_type": "code",
   "execution_count": 16,
   "metadata": {},
   "outputs": [
    {
     "name": "stdout",
     "output_type": "stream",
     "text": [
      "['cardboard', 'glass', 'metal', 'paper', 'plastic', 'trash']\n"
     ]
    }
   ],
   "source": [
    "data_categories.remove('.DS_Store')\n",
    "data_categories.remove('models')\n",
    "print(data_categories)"
   ]
  },
  {
   "cell_type": "code",
   "execution_count": 17,
   "metadata": {},
   "outputs": [],
   "source": [
    "# Assigning labels to each waste category\n",
    "num_classes = 6\n",
    "labels_name={'cardboard':0,'glass':1,'metal':2,'paper':3,'plastic':4,'trash':5}"
   ]
  },
  {
   "cell_type": "code",
   "execution_count": 18,
   "metadata": {},
   "outputs": [
    {
     "name": "stdout",
     "output_type": "stream",
     "text": [
      "Loading the images of dataset-cardboard\n",
      "\n",
      "Read 403 images out of 403 images from data dir cardboard\n",
      "\n",
      "Loading the images of dataset-glass\n",
      "\n",
      "Read 501 images out of 501 images from data dir glass\n",
      "\n",
      "Loading the images of dataset-metal\n",
      "\n",
      "Read 410 images out of 410 images from data dir metal\n",
      "\n",
      "Loading the images of dataset-paper\n",
      "\n",
      "Read 594 images out of 594 images from data dir paper\n",
      "\n",
      "Loading the images of dataset-plastic\n",
      "\n",
      "Read 482 images out of 482 images from data dir plastic\n",
      "\n",
      "Loading the images of dataset-trash\n",
      "\n",
      "Read 137 images out of 137 images from data dir trash\n",
      "\n",
      "completed reading all the image files and assigned labels accordingly\n"
     ]
    }
   ],
   "source": [
    "# create three dataframes one for train, one for val and other for test with 3 columns as filename,label and classname\n",
    "train_df = pd.DataFrame(columns=['FileName', 'Label', 'ClassName'])\n",
    "val_df = pd.DataFrame(columns=['FileName', 'Label', 'ClassName'])\n",
    "test_df = pd.DataFrame(columns=['FileName', 'Label', 'ClassName'])\n",
    "\n",
    "# we will split in 70/13/17 of train/val/test\n",
    "# Loop over every waste category\n",
    "for dataset in data_categories:\n",
    "    # load the list of image names in each of the waste category\n",
    "    img_list = os.listdir(os.path.join(root_dir,data_dir,dataset))\n",
    "    print ('Loading the images of dataset-'+'{}\\n'.format(dataset))\n",
    "    label = labels_name[dataset]\n",
    "    num_img_files = len(img_list)\n",
    "    num_corrupted_files=0\n",
    "    num_val_imgs = int((13*num_img_files)/100)\n",
    "    num_test_imgs = int((17*num_img_files)/100)\n",
    "    val_list_index = random.sample(range(1, num_img_files-1), num_val_imgs)\n",
    "    test_list_index = random.sample(range(1, num_img_files-1), num_test_imgs)\n",
    "    \n",
    "    # read each file and if it is corrupted exclude it , if not include it in either train, val or test data frames\n",
    "    for i in range(num_img_files):\n",
    "        img_name = img_list[i]\n",
    "        img_filename = os.path.join(data_dir,dataset,img_name)\n",
    "       # print ('img_filename: ',img_filename)\n",
    "        try:\n",
    "            input_img = cv2.imread(os.path.join(root_dir,data_dir,dataset,img_name))\n",
    "            img_shape=input_img.shape\n",
    "            if i in val_list_index:\n",
    "                val_df = val_df.append({'FileName': img_filename, 'Label': label,'ClassName': dataset},ignore_index=True)\n",
    "            elif i in test_list_index:\n",
    "                test_df = test_df.append({'FileName': img_filename, 'Label': label,'ClassName': dataset},ignore_index=True)\n",
    "            else:\n",
    "                train_df = train_df.append({'FileName': img_filename, 'Label': label,'ClassName': dataset},ignore_index=True) \n",
    "        except:\n",
    "            print ('{} is corrupted\\n'.format(img_filename))\n",
    "            num_corrupted_files+=1\n",
    "    \n",
    "    \n",
    "    \n",
    "    print ('Read {0} images out of {1} images from data dir {2}\\n'.format(num_img_files-num_corrupted_files,num_img_files,dataset))\n",
    "\n",
    "print ('completed reading all the image files and assigned labels accordingly')"
   ]
  },
  {
   "cell_type": "code",
   "execution_count": 19,
   "metadata": {},
   "outputs": [
    {
     "name": "stdout",
     "output_type": "stream",
     "text": [
      "The train, validation and test csv files are saved\n"
     ]
    }
   ],
   "source": [
    "data_files_path=os.path.join(root_dir,'data_files')\n",
    "if not os.path.exists(data_files_path):\n",
    "    os.mkdir(os.path.join(data_files_path))\n",
    "\n",
    "train_df.to_csv(os.path.join(data_files_path,'trashnet_train.csv'))\n",
    "val_df.to_csv(os.path.join(data_files_path,'trashnet_val.csv'))\n",
    "test_df.to_csv(os.path.join(data_files_path,'trashnet_test.csv'))\n",
    "print('The train, validation and test csv files are saved')"
   ]
  },
  {
   "cell_type": "code",
   "execution_count": null,
   "metadata": {},
   "outputs": [],
   "source": []
  }
 ],
 "metadata": {
  "kernelspec": {
   "display_name": "Python 3",
   "language": "python",
   "name": "python3"
  },
  "language_info": {
   "codemirror_mode": {
    "name": "ipython",
    "version": 3
   },
   "file_extension": ".py",
   "mimetype": "text/x-python",
   "name": "python",
   "nbconvert_exporter": "python",
   "pygments_lexer": "ipython3",
   "version": "3.7.3"
  }
 },
 "nbformat": 4,
 "nbformat_minor": 2
}
